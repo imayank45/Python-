{
 "cells": [
  {
   "cell_type": "markdown",
   "metadata": {},
   "source": [
    "# Python Usecases Interview Based Questions\n"
   ]
  },
  {
   "cell_type": "markdown",
   "metadata": {},
   "source": [
    "### 1. Given a list of numbers, write a Python function to find the second highest number."
   ]
  },
  {
   "cell_type": "code",
   "execution_count": 3,
   "metadata": {},
   "outputs": [
    {
     "name": "stdout",
     "output_type": "stream",
     "text": [
      "Second highest number in the list is  356\n"
     ]
    }
   ],
   "source": [
    "def second_highest_number(llist):\n",
    "    llist.sort()\n",
    "    return llist[-2]\n",
    "\n",
    "llist = [23,535,32,356,45]\n",
    " \n",
    "print(\"Second highest number in the list is \",second_highest_number(llist))"
   ]
  },
  {
   "cell_type": "markdown",
   "metadata": {},
   "source": [
    "### 2. Write a function to compute the factorial of a number using recursion."
   ]
  },
  {
   "cell_type": "code",
   "execution_count": 1,
   "metadata": {},
   "outputs": [
    {
     "name": "stdout",
     "output_type": "stream",
     "text": [
      "Factorial of a given number is  120\n"
     ]
    }
   ],
   "source": [
    "def factorial(n):\n",
    "    if n == 0:\n",
    "        return 1\n",
    "    return n * factorial(n-1)  \n",
    "\n",
    "num = 5\n",
    "\n",
    "print(\"Factorial of a given number is \", factorial(num))"
   ]
  },
  {
   "cell_type": "markdown",
   "metadata": {},
   "source": [
    "### 3. You are given a list of strings. Write a function to filter out all strings that are palindromes."
   ]
  },
  {
   "cell_type": "code",
   "execution_count": 1,
   "metadata": {},
   "outputs": [
    {
     "name": "stdout",
     "output_type": "stream",
     "text": [
      "Palindromes:  ['radar', 'level']\n"
     ]
    }
   ],
   "source": [
    "# A palindrome is a word, phrase, number, or other sequences of characters that reads the same forward and \n",
    "# backward (ignoring spaces, punctuation, and capitalization).\n",
    "\n",
    "def is_palindrome(s):\n",
    "    return s == s[::-1]\n",
    "\n",
    "def filter_palindromes(strings):\n",
    "    return [s for s in strings if is_palindrome(s)]\n",
    "\n",
    "words = [\"radar\", \"python\", \"level\", \"world\"]\n",
    "\n",
    "palindromes = filter_palindromes(words)\n",
    "print(\"Palindromes: \",palindromes) "
   ]
  },
  {
   "cell_type": "markdown",
   "metadata": {},
   "source": [
    "### 4. Given a string, write a function to check if it is an anagram of another string."
   ]
  },
  {
   "cell_type": "code",
   "execution_count": 3,
   "metadata": {},
   "outputs": [
    {
     "name": "stdout",
     "output_type": "stream",
     "text": [
      "True\n"
     ]
    }
   ],
   "source": [
    "# An anagram is a word or phrase formed by rearranging the letters of a different word or phrase, typically using \n",
    "# all the original letters exactly once.\n",
    "\n",
    "def anagrams(s1,s2):\n",
    "    return sorted(s1) == sorted(s2)\n",
    "\n",
    "s1 = \"listen\"\n",
    "s2 = \"silent\"\n",
    " \n",
    "print(anagrams(s1,s2))"
   ]
  },
  {
   "cell_type": "markdown",
   "metadata": {},
   "source": [
    "### 5. Write a function to flatten a nested list."
   ]
  },
  {
   "cell_type": "code",
   "execution_count": 2,
   "metadata": {},
   "outputs": [
    {
     "name": "stdout",
     "output_type": "stream",
     "text": [
      "[1, 2, 3, 4, 5, 6, 7, 8, 9, 10]\n"
     ]
    }
   ],
   "source": [
    "def flatten_list(lst):\n",
    "    result = []\n",
    "    \n",
    "    for item in lst:\n",
    "        if isinstance(item, list):\n",
    "            result.extend(flatten_list(item)) \n",
    "        else:\n",
    "            result.append(item)\n",
    "    return result\n",
    "\n",
    "nested_list = [[1, 2, [3, 4]], [5, 6], 7, [8, [9, 10]]]\n",
    "\n",
    "flattened = flatten_list(nested_list)\n",
    "\n",
    "print(flattened)"
   ]
  },
  {
   "cell_type": "markdown",
   "metadata": {},
   "source": [
    "### 6. Given two lists, write a function that returns the elements that are common to both lists."
   ]
  },
  {
   "cell_type": "code",
   "execution_count": 5,
   "metadata": {},
   "outputs": [
    {
     "name": "stdout",
     "output_type": "stream",
     "text": [
      "Common elements:  [4, 5]\n"
     ]
    }
   ],
   "source": [
    "def common_elements(list1, list2):\n",
    "    l1 = set(list1)\n",
    "    l2 = set(list2)\n",
    "    \n",
    "    common_set = l1.intersection(l2)\n",
    "    \n",
    "    common_list = list(common_set) \n",
    "    \n",
    "    return common_list\n",
    "\n",
    "list1 = [1, 2, 3, 4, 5]\n",
    "list2 = [4, 5, 6, 7, 8]\n",
    "\n",
    "print(\"Common elements: \", common_elements(list1, list2))"
   ]
  },
  {
   "cell_type": "markdown",
   "metadata": {},
   "source": [
    "### 7. Write a function that returns the number of words in a string."
   ]
  },
  {
   "cell_type": "code",
   "execution_count": 1,
   "metadata": {},
   "outputs": [
    {
     "name": "stdout",
     "output_type": "stream",
     "text": [
      "Total words:  5\n"
     ]
    }
   ],
   "source": [
    "def no_of_words(sentence):\n",
    "    return len(sentence.split())\n",
    "     \n",
    "sentence = \"Hi there I am mayank\"\n",
    "\n",
    "print(\"Total words: \", no_of_words(sentence))"
   ]
  },
  {
   "cell_type": "markdown",
   "metadata": {},
   "source": [
    "### 8. Write a Python function to merge two dictionaries. If both dictionaries have the same key, prefer the second dictionary's value."
   ]
  },
  {
   "cell_type": "code",
   "execution_count": 1,
   "metadata": {},
   "outputs": [
    {
     "name": "stdout",
     "output_type": "stream",
     "text": [
      "{'a': 1, 'b': 3, 'c': 4}\n"
     ]
    }
   ],
   "source": [
    "def merge_dicts(d1, d2):\n",
    "    merged = d1.copy()\n",
    "    merged.update(d2)\n",
    "    return merged\n",
    "\n",
    "dict1 = {'a': 1, 'b': 2}\n",
    "dict2 = {'b': 3, 'c': 4}\n",
    "\n",
    "print(merge_dicts(dict1, dict2))"
   ]
  },
  {
   "cell_type": "markdown",
   "metadata": {},
   "source": [
    "### 9. Write a function that finds the most repeated character in a string."
   ]
  },
  {
   "cell_type": "code",
   "execution_count": 10,
   "metadata": {},
   "outputs": [
    {
     "name": "stdout",
     "output_type": "stream",
     "text": [
      "d\n"
     ]
    }
   ],
   "source": [
    "def most_repeated(string):\n",
    "    char_count = {}\n",
    "    \n",
    "    for char in string:\n",
    "        \n",
    "        if char in char_count:\n",
    "            char_count[char] += 1\n",
    "            \n",
    "        else:\n",
    "            char_count[char] = 1\n",
    "            \n",
    "    max_char = max(char_count, key = char_count.get)\n",
    "    return max_char\n",
    "\n",
    "string = \"aabbbcdddde\"\n",
    "\n",
    "print(most_repeated(string))"
   ]
  },
  {
   "cell_type": "markdown",
   "metadata": {},
   "source": [
    "### 10. Write a function that checks if a string contains all letters of the alphabet at least once."
   ]
  },
  {
   "cell_type": "code",
   "execution_count": 2,
   "metadata": {},
   "outputs": [
    {
     "name": "stdout",
     "output_type": "stream",
     "text": [
      "True\n"
     ]
    }
   ],
   "source": [
    "def contains_all_alphabets(s):\n",
    "    alphabet = \"abcdefghijklmnopqrstuvwxyz\"\n",
    "    \n",
    "    for char in alphabet:\n",
    "        if char not in s.lower():\n",
    "            return False\n",
    "    return True\n",
    "\n",
    "    # anaother approach\n",
    "    # import string\n",
    "    # alphabet = set(string.ascii_lowercase)\n",
    "    # return set(s.lower()) >= set(alphabet)\n",
    "    \n",
    "test_string = \"The quick brown fox jumps over the lazy dog\"\n",
    "\n",
    "print(contains_all_alphabets(test_string))"
   ]
  },
  {
   "cell_type": "markdown",
   "metadata": {},
   "source": [
    "### 11. Write a function that checks if a given string is a valid IPv4 address."
   ]
  },
  {
   "cell_type": "code",
   "execution_count": 3,
   "metadata": {},
   "outputs": [
    {
     "name": "stdout",
     "output_type": "stream",
     "text": [
      "True\n"
     ]
    }
   ],
   "source": [
    "def is_valid_ipv4(address):\n",
    "    parts = address.split(\".\")\n",
    "    \n",
    "    if len(parts) != 4:\n",
    "        return False\n",
    "    \n",
    "    for part in parts:\n",
    "        if not part.isdigit():\n",
    "            return False\n",
    "        \n",
    "        if int(part) < 0 or int(part) > 255:\n",
    "            return False\n",
    "        \n",
    "    return True\n",
    "\n",
    "address = \"192.168.1.1\"\n",
    "\n",
    "print(is_valid_ipv4(address))"
   ]
  },
  {
   "cell_type": "markdown",
   "metadata": {},
   "source": [
    "### 12. Given a list of numbers, write a function to compute the mean, median, and mode."
   ]
  },
  {
   "cell_type": "code",
   "execution_count": 4,
   "metadata": {},
   "outputs": [
    {
     "name": "stdout",
     "output_type": "stream",
     "text": [
      "{'mean': 3.888888888888889, 'median': 4, 'mode': 5}\n"
     ]
    }
   ],
   "source": [
    "from statistics import mean, median, mode\n",
    "\n",
    "def compute_stats(numbers):\n",
    "    return {\n",
    "        \"mean\": mean(numbers),\n",
    "        \"median\": median(numbers),\n",
    "        \"mode\": mode(numbers)\n",
    "    }\n",
    "\n",
    "numbers = [1, 2, 3, 4, 4, 5, 5, 5, 6]\n",
    "print(compute_stats(numbers)) "
   ]
  },
  {
   "cell_type": "markdown",
   "metadata": {},
   "source": [
    "### 13. Write a function to compute the Fibonacci series up to n."
   ]
  },
  {
   "cell_type": "code",
   "execution_count": 5,
   "metadata": {},
   "outputs": [
    {
     "name": "stdout",
     "output_type": "stream",
     "text": [
      "[0, 1, 1, 2, 3, 5, 8, 13, 21, 34]\n"
     ]
    }
   ],
   "source": [
    "def fibonacci(num):\n",
    "    series = [0,1]\n",
    "    while len(series) < num:\n",
    "        series.append(series[-1] + series[-2])\n",
    "    \n",
    "    return series\n",
    "\n",
    "number = 10\n",
    "print(fibonacci(number))"
   ]
  },
  {
   "cell_type": "markdown",
   "metadata": {},
   "source": [
    "### 14. Given a string, write a function that returns the first non-repeated character."
   ]
  },
  {
   "cell_type": "code",
   "execution_count": 10,
   "metadata": {},
   "outputs": [
    {
     "name": "stdout",
     "output_type": "stream",
     "text": [
      "w\n"
     ]
    }
   ],
   "source": [
    "def first_non_repeated(s):\n",
    "    \n",
    "    char_count = {}\n",
    "    \n",
    "    for char in s:\n",
    "        \n",
    "        if char in char_count:\n",
    "            char_count[char] += 1\n",
    "        else:\n",
    "            char_count[char] = 1\n",
    "    \n",
    "    for char in s:\n",
    "        if char_count[char] == 1:\n",
    "            return char\n",
    "    \n",
    "    return None\n",
    "\n",
    "string = \"swiss\"\n",
    "print(first_non_repeated(string))"
   ]
  },
  {
   "cell_type": "markdown",
   "metadata": {},
   "source": [
    "### 15. Write a function to check if two strings are a rotation of each other (e.g., \"abcde\" and \"cdeab\" are rotations of each other)."
   ]
  },
  {
   "cell_type": "code",
   "execution_count": 11,
   "metadata": {},
   "outputs": [
    {
     "name": "stdout",
     "output_type": "stream",
     "text": [
      "True\n"
     ]
    }
   ],
   "source": [
    "def are_rotations(s1,s2):\n",
    "    if len(s1) != len(s2):\n",
    "        return False\n",
    "\n",
    "    return s2 in s1 + s1\n",
    "\n",
    "s1 = \"abcde\"\n",
    "s2 = \"cdeab\"\n",
    "print(are_rotations(s1, s2))"
   ]
  },
  {
   "cell_type": "code",
   "execution_count": null,
   "metadata": {},
   "outputs": [],
   "source": [
    " "
   ]
  }
 ],
 "metadata": {
  "kernelspec": {
   "display_name": "base",
   "language": "python",
   "name": "python3"
  },
  "language_info": {
   "codemirror_mode": {
    "name": "ipython",
    "version": 3
   },
   "file_extension": ".py",
   "mimetype": "text/x-python",
   "name": "python",
   "nbconvert_exporter": "python",
   "pygments_lexer": "ipython3",
   "version": "3.11.3"
  }
 },
 "nbformat": 4,
 "nbformat_minor": 2
}
